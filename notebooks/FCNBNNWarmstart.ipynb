{
 "cells": [
  {
   "cell_type": "markdown",
   "metadata": {},
   "source": [
    "# Train a classic NN to use the point estimates as warmstart for the MCMC"
   ]
  },
  {
   "cell_type": "code",
   "execution_count": null,
   "metadata": {
    "ExecuteTime": {
     "end_time": "2024-01-25T13:24:01.508611486Z",
     "start_time": "2024-01-25T13:23:59.446577402Z"
    }
   },
   "outputs": [],
   "source": [
    "import torch\n",
    "import torch.nn as nn\n",
    "import torch.optim as optim\n",
    "import numpy as np\n",
    "import sys\n",
    "sys.path.append('../')\n",
    "from experiments.fcn_bnns.utils.analysis_utils import *"
   ]
  },
  {
   "cell_type": "code",
   "execution_count": null,
   "metadata": {
    "ExecuteTime": {
     "end_time": "2024-01-25T13:24:25.261188902Z",
     "start_time": "2024-01-25T13:24:25.218559977Z"
    }
   },
   "outputs": [],
   "source": [
    "exp_info = {\n",
    "    \"data\": \"airfoil.data\",\n",
    "    \"replications\": 1,\n",
    "}\n",
    "X_train, Y_train = load_data(exp_info, splittype='train', data_path=\"../data/\")\n",
    "X_val, Y_val = load_data(exp_info, splittype='val', data_path=\"../data/\")\n",
    "Y_train = Y_train.squeeze()\n",
    "Y_val = Y_val.squeeze()\n"
   ]
  },
  {
   "cell_type": "code",
   "execution_count": null,
   "metadata": {},
   "outputs": [],
   "source": [
    "from tqdm import tqdm\n",
    "# Define the fully connected regression model\n",
    "class RegressionModel(nn.Module):\n",
    "    def __init__(self):\n",
    "        super(RegressionModel, self).__init__()\n",
    "        self.fc1 = nn.Linear(in_features=5, out_features=16)\n",
    "        self.relu1 = nn.ReLU()\n",
    "        self.fc2 = nn.Linear(in_features=16, out_features=16)\n",
    "        self.relu2 = nn.ReLU()\n",
    "        self.fc3 = nn.Linear(in_features=16, out_features=2)\n",
    "\n",
    "    def forward(self, x):\n",
    "        x = self.relu1(self.fc1(x))\n",
    "        x = self.relu2(self.fc2(x))\n",
    "        x = self.fc3(x)\n",
    "        # the one dimension is the output the other the log var of a gaussian\n",
    "        return x\n",
    "\n",
    "# Instantiate the model, loss function, and optimizer\n",
    "model = RegressionModel()\n",
    "criterion = nn.GaussianNLLLoss()\n",
    "optimizer = optim.Adam(model.parameters(), lr=0.001)\n",
    "\n",
    "# Convert NumPy arrays to PyTorch tensors\n",
    "X_train = torch.from_numpy(np.array(X_train))\n",
    "y_train = torch.from_numpy(np.array(Y_train))\n",
    "\n",
    "# Training loop\n",
    "num_epochs = 10000\n",
    "with tqdm(total=num_epochs, desc=\"Training Progress\") as pbar:\n",
    "    for epoch in range(num_epochs):\n",
    "        # Forward pass\n",
    "        outputs = model(X_train)\n",
    "        mean_pred = outputs[:, 0]\n",
    "        std_pred = torch.exp(outputs[:, 1])\n",
    "        loss = criterion(mean_pred, y_train, std_pred)\n",
    "        # loss = torch.mean((y_train - mean_pred)**2)\n",
    "        if torch.isnan(loss).any() or torch.isinf(loss).any() or loss.item() < -1e6:\n",
    "            print(\"Loss exploded, breaking\")\n",
    "            break\n",
    "        # Backward pass and optimization\n",
    "        optimizer.zero_grad()\n",
    "        loss.backward()\n",
    "        optimizer.step()\n",
    "        pbar.update(1)\n",
    "        pbar.set_postfix_str(\"Loss: {:.4f}\".format(loss.item()))\n",
    "    \n",
    "\n",
    "# Save the final weights with custom names as NumPy arrays\n",
    "final_weights = {\n",
    "    'W1': model.fc1.weight.data.numpy(),\n",
    "    'b1': model.fc1.bias.data.numpy(),\n",
    "    'W2': model.fc2.weight.data.numpy(),\n",
    "    'b2': model.fc2.bias.data.numpy(),\n",
    "    'W3': model.fc3.weight.data.numpy(),\n",
    "    'b3': model.fc3.bias.data.numpy(),\n",
    "}\n",
    "\n",
    "# print shapes of the weights\n",
    "for key in final_weights.keys():\n",
    "    print(key, final_weights[key].shape)\n"
   ]
  },
  {
   "cell_type": "code",
   "execution_count": null,
   "metadata": {},
   "outputs": [],
   "source": [
    "# predict on the validation set\n",
    "X_val = torch.from_numpy(np.array(X_val))\n",
    "y_val = torch.from_numpy(np.array(Y_val))\n",
    "outputs = model(X_val)\n",
    "mean_pred = outputs[:, 0]\n",
    "print(mean_pred[:10])\n",
    "print(outputs[:10, 1])\n",
    "print(y_val[:10])\n",
    "rmse = torch.sqrt(torch.mean((y_val - mean_pred)**2))\n",
    "print(\"RMSE: {:.4f}\".format(rmse.item()))\n",
    "# rmse of constant 0 predictor\n",
    "rmse_0 = torch.sqrt(torch.mean(y_val**2))\n",
    "print(\"RMSE_0: {:.4f}\".format(rmse_0.item()))\n",
    "# train a linear regression model\n",
    "from sklearn.linear_model import LinearRegression\n",
    "reg = LinearRegression().fit(X_train, y_train)\n",
    "print(\"RMSE_lin: {:.4f}\".format(np.sqrt(np.mean((np.array(y_val) - reg.predict(X_val))**2))))"
   ]
  },
  {
   "cell_type": "code",
   "execution_count": null,
   "metadata": {},
   "outputs": [],
   "source": [
    "# save the final weights dict\n",
    "# transpose all weight matrices\n",
    "for key in final_weights.keys():\n",
    "    if key.startswith('W'):\n",
    "        final_weights[key] = final_weights[key].T\n",
    "    print(key, final_weights[key].shape)\n",
    "    # make dir results/de/airfoil.data|16-16|relu|1\n",
    "exp_name = \"airfoil.data|16-16|relu|1\"\n",
    "if not os.path.exists(f\"../results/de/{exp_name}\"):\n",
    "    os.makedirs(f\"../results/de/{exp_name}\")\n",
    "np.savez(f\"../results/de/{exp_name}/{exp_name}|0.npz\", **final_weights)\n"
   ]
  },
  {
   "cell_type": "code",
   "execution_count": null,
   "metadata": {},
   "outputs": [],
   "source": [
    "weight_dict = np.load(\"../results/de/airfoil_data|16-16|relu|1.npz\")\n",
    "# convert to dict\n",
    "weight_dict = dict(weight_dict)\n",
    "print(type(weight_dict))\n",
    "weight_dict[\"W2\"].shape\n"
   ]
  }
 ],
 "metadata": {
  "kernelspec": {
   "display_name": ".venv",
   "language": "python",
   "name": "python3"
  },
  "language_info": {
   "codemirror_mode": {
    "name": "ipython",
    "version": 3
   },
   "file_extension": ".py",
   "mimetype": "text/x-python",
   "name": "python",
   "nbconvert_exporter": "python",
   "pygments_lexer": "ipython3",
   "version": "3.10.13"
  }
 },
 "nbformat": 4,
 "nbformat_minor": 2
}
