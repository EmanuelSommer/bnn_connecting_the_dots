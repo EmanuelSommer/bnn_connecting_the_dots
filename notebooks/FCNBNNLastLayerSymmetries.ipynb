{
 "cells": [
  {
   "cell_type": "markdown",
   "metadata": {},
   "source": [
    "# Analyze the Posterior Samples of the last layer in a simple architectures"
   ]
  },
  {
   "cell_type": "code",
   "execution_count": null,
   "metadata": {},
   "outputs": [],
   "source": [
    "import numpy as np\n",
    "import matplotlib.pyplot as plt\n",
    "import seaborn as sns\n",
    "import sys\n",
    "import pandas as pd\n",
    "sys.path.append('../')\n",
    "from experiments.fcn_bnns.utils.analysis_utils import *\n",
    "from module_sandbox.utils import (  # noqa: E402\n",
    "    mse,\n",
    ")\n",
    "%load_ext autoreload\n",
    "%autoreload 2"
   ]
  },
  {
   "cell_type": "code",
   "execution_count": null,
   "metadata": {},
   "outputs": [],
   "source": [
    "# datet = \"2023-12-22-16-22-58\" # Architecture 2\n",
    "# datet = \"2024-01-18-08-29-03\" # Architecture 16-16-2\n",
    "datet = \"2024-01-19-12-42-31\" # Huge prior 1000\n",
    "CONFIG_PATH = f'../results/fcn_bnns/{datet}/config.yaml'\n",
    "DATA_PATH = '../data'\n",
    "replication = 1\n",
    "exp_names = get_exp_names(path=f\"../results/fcn_bnns/{datet}/\")\n",
    "# exp_name = f'airfoil.data|tanh|2|12|8000|False|NUTS_large|{replication}|1|Normal' # 2\n",
    "# exp_name = f'airfoil.data|tanh|16-16-2|10|8000|False|NUTS_large|{replication}|1|Normal' # 16-16-2\n",
    "exp_name = f'airfoil.data|tanh|16-16-2|12|8000|False|NUTS_large|{replication}|100|Normal' # huge prior\n",
    "exp_name = [ename for ename in exp_names if exp_name in ename][0]\n",
    "print(exp_name)"
   ]
  },
  {
   "cell_type": "code",
   "execution_count": null,
   "metadata": {},
   "outputs": [],
   "source": [
    "exp_info = extract_exp_info(exp_name)\n",
    "config = load_config(CONFIG_PATH)\n",
    "n_chains = int(exp_info['n_chains'])\n",
    "n_samples = int(exp_info['n_samples'])\n",
    "X_train, Y_train = load_data(exp_info, splittype='train', data_path=DATA_PATH)\n",
    "X_val, Y_val = load_data(exp_info, splittype='val', data_path=DATA_PATH)\n",
    "val_threshold = min(1000, X_val.shape[0])\n",
    "X_val = X_val[:val_threshold, :]\n",
    "Y_val = Y_val[:val_threshold, :]\n",
    "linear_regr, rf_regr = fit_baselines(X_train, Y_train)\n",
    "mse_linear, mse_rf = evaluate_baselines(X_val, Y_val, linear_regr, rf_regr)\n",
    "res_dict = {}\n",
    "res_dict['rmse_linear'] = np.sqrt(mse_linear)\n",
    "res_dict['rmse_rf'] = np.sqrt(mse_rf)\n",
    "posterior_samples, posterior_samples_raw = load_samples(exp_name, f'../results/fcn_bnns/{datet}')\n",
    "model = load_model(exp_name, f'../results/fcn_bnns/{datet}')\n",
    "preds_chain_dim, preds = get_posterior_predictive(\n",
    "    model, posterior_samples_raw, X_val, exp_info['n_chains']\n",
    ")\n",
    "rmse_per_chain = {}\n",
    "for i in range(preds_chain_dim.shape[0]):\n",
    "    rmse_per_chain[f'chain_{i}'] = np.sqrt(mse(preds_chain_dim[i], Y_val)[0])\n",
    "rmse_table = pd.DataFrame(rmse_per_chain, index=['RMSE']).T\n",
    "bad_chains = rmse_table[rmse_table['RMSE'] > np.sqrt(mse_linear)].index\n",
    "bad_chains = bad_chains.str.split('_').str[1].astype(int).values\n",
    "bad_chains = bad_chains.tolist()\n",
    "good_chains = [i for i in range(n_chains) if i not in bad_chains]\n",
    "if len(good_chains) > 0:\n",
    "    good_chains_pred_indices = np.concatenate(\n",
    "        [np.arange(n_samples) + (n_samples * i) for i in good_chains]\n",
    "    )\n",
    "    good_chains_pred_indices_100 = np.concatenate(\n",
    "        [np.arange(100) + (n_samples * i) for i in good_chains]\n",
    "    )\n",
    "res_dict['n_bad_chains'] = len(bad_chains)\n",
    "res_dict['n_good_chains'] = len(good_chains)\n",
    "if len(good_chains) == 0:\n",
    "    res_dict['rmse_good_chains'] = np.nan\n",
    "    res_dict['rmse_good_chains_100'] = np.nan\n",
    "    res_dict['acc_90hpdi'] = np.nan\n",
    "    res_dict['acc_90hpdi_100'] = np.nan\n",
    "else:\n",
    "    # RMSE\n",
    "    res_dict['rmse_good_chains'] = np.sqrt(\n",
    "        mse(preds[good_chains_pred_indices, :], Y_val)[0]\n",
    "    )\n",
    "    res_dict['rmse_good_chains_100'] = np.sqrt(\n",
    "        mse(preds[good_chains_pred_indices_100, :], Y_val)[0]\n",
    "    )\n",
    "\n",
    "res_dict"
   ]
  },
  {
   "cell_type": "code",
   "execution_count": null,
   "metadata": {},
   "outputs": [],
   "source": [
    "truncate_samples = config[\"n_samples\"]\n",
    "rmse_per_chain = {}\n",
    "for i in range(preds_chain_dim.shape[0]):\n",
    "    rmse_per_chain[f'chain_{i}'] = np.sqrt(mse(preds_chain_dim[i], Y_val)[0])\n",
    "rmse_table = pd.DataFrame(rmse_per_chain, index=['RMSE']).T\n",
    "bad_chains = rmse_table[rmse_table['RMSE'] > res_dict[\"rmse_linear\"]].index\n",
    "bad_chains = bad_chains.str.split('_').str[1].astype(int).values\n",
    "bad_chains = bad_chains.tolist()\n",
    "good_chains = [i for i in range(n_chains) if i not in bad_chains]\n",
    "n_samples = config['n_samples']\n",
    "good_chains_pred_indices = np.concatenate(\n",
    "    [np.arange(truncate_samples) + (n_samples * i) for i in good_chains]\n",
    ")\n",
    "rmse_table = rmse_table.sort_values(by='RMSE', ascending=True)\n",
    "# all entries of the df that are > np.sqrt(mse_linear_model) should get a red\n",
    "# background\n",
    "def color_cells(x):\n",
    "    \"\"\"Color the cells of the table.\"\"\"\n",
    "    return 'background-color: red' if x > res_dict[\"rmse_linear\"] else ''\n",
    "rmse_table = rmse_table.style.map(color_cells)\n",
    "rmse_table = rmse_table.format('{:.3f}')\n",
    "rmse_table"
   ]
  },
  {
   "cell_type": "code",
   "execution_count": null,
   "metadata": {},
   "outputs": [],
   "source": [
    "for parameter in posterior_samples.keys():\n",
    "    print(parameter)\n",
    "    print(posterior_samples[parameter].shape)"
   ]
  },
  {
   "cell_type": "markdown",
   "metadata": {},
   "source": [
    "We are now interested in the last layer specifically the posterior samples that are connected to the estimation of the $\\mu$ in the last layer. \n"
   ]
  },
  {
   "cell_type": "code",
   "execution_count": null,
   "metadata": {},
   "outputs": [],
   "source": [
    "# Architecture 2\n",
    "# last_layer_mu_weight_samples = posterior_samples[\"W2\"][:, :, :, 0]\n",
    "# print(last_layer_mu_weight_samples.shape)\n",
    "# last_layer_mu_bias_samples = posterior_samples[\"b2\"][:, :, 0]\n",
    "# print(last_layer_mu_bias_samples.shape)\n",
    "# Architecture 16-16-2\n",
    "last_layer_mu_weight_samples = posterior_samples[\"W4\"][:, :, :, 0][good_chains, ...]\n",
    "print(last_layer_mu_weight_samples.shape)\n",
    "last_layer_mu_bias_samples = posterior_samples[\"b4\"][:, :, 0][good_chains, ...]\n",
    "print(last_layer_mu_bias_samples.shape)"
   ]
  },
  {
   "cell_type": "code",
   "execution_count": null,
   "metadata": {},
   "outputs": [],
   "source": [
    "last_layer_mu_weight_samples.mean(axis=1)"
   ]
  },
  {
   "cell_type": "code",
   "execution_count": null,
   "metadata": {},
   "outputs": [],
   "source": [
    "sns.lineplot(\n",
    "    x=np.arange(last_layer_mu_weight_samples.shape[1]),\n",
    "    y=last_layer_mu_weight_samples[0, :, 0],\n",
    "    label='chain 0'\n",
    ")"
   ]
  },
  {
   "cell_type": "code",
   "execution_count": null,
   "metadata": {},
   "outputs": [],
   "source": [
    "# Biases\n",
    "for chain in range(last_layer_mu_bias_samples.shape[0]):\n",
    "    sns.displot(last_layer_mu_bias_samples[chain, :])\n",
    "    sns.rugplot(last_layer_mu_bias_samples[chain, :])\n",
    "    # add title\n",
    "    plt.title(f\"Chain {chain}\")\n",
    "    # plt.show()"
   ]
  },
  {
   "cell_type": "code",
   "execution_count": null,
   "metadata": {},
   "outputs": [],
   "source": [
    "# flatten the first two dimensions\n",
    "last_layer_mu_bias_samples_flat = last_layer_mu_bias_samples.flatten()\n",
    "chain_indices = np.concatenate(\n",
    "    [np.repeat(i, last_layer_mu_bias_samples.shape[1]) for i in range(len(good_chains))]\n",
    ")\n",
    "sns.displot(\n",
    "    x=last_layer_mu_bias_samples_flat,\n",
    "    hue=chain_indices,\n",
    "    rug=False,\n",
    "    kde=True,\n",
    "    bins =60,\n",
    "    stat=\"density\",\n",
    "    alpha=0.6,\n",
    ")"
   ]
  },
  {
   "cell_type": "code",
   "execution_count": null,
   "metadata": {},
   "outputs": [],
   "source": [
    "last_layer_mu_weight_samples_flat = last_layer_mu_weight_samples[:,:2000,:].reshape(\n",
    "    last_layer_mu_weight_samples.shape[0] * 2000,\n",
    "    last_layer_mu_weight_samples.shape[2],\n",
    ")\n",
    "chain_indices = np.concatenate(\n",
    "    [np.repeat(i, 2000) for i in range(len(good_chains))]\n",
    ")\n",
    "fig = sns.jointplot(\n",
    "    x = last_layer_mu_weight_samples_flat[:, 0],\n",
    "    y = last_layer_mu_weight_samples_flat[:, 1],\n",
    "    alpha=0.02,\n",
    "    kind=\"scatter\",\n",
    "    hue=chain_indices,\n",
    "    palette=\"viridis\",\n",
    ")\n",
    "fig.plot_joint(sns.kdeplot, color=chain_indices, zorder=0, levels=6)\n",
    "fig.set_axis_labels(\"Output Layer $w_1$\", \"Output Layer $w_2$\")\n",
    "fig.ax_joint.set_xlim(-5, 5)\n",
    "fig.ax_joint.set_ylim(-5, 5)\n",
    "plt.legend([],[], frameon=False)"
   ]
  },
  {
   "cell_type": "code",
   "execution_count": null,
   "metadata": {},
   "outputs": [],
   "source": [
    "# for the weights use a bivariate density between the two dimensions of the last layer for each chain\n",
    "# like this: g = sns.jointplot(data=penguins, x=\"bill_length_mm\", y=\"bill_depth_mm\")\n",
    "# g.plot_joint(sns.kdeplot, color=\"r\", zorder=0, levels=6)\n",
    "# g.plot_marginals(sns.rugplot, color=\"r\", height=-.15, clip_on=False)\n",
    "for chain in range(last_layer_mu_weight_samples.shape[0]):\n",
    "    g = sns.jointplot(\n",
    "        x=last_layer_mu_weight_samples[chain, :, 0],\n",
    "        y=last_layer_mu_weight_samples[chain, :, 1],\n",
    "        alpha=0.1,\n",
    "    )\n",
    "    g.plot_joint(sns.kdeplot, color=\"r\", zorder=0, levels=6)\n",
    "    g.plot_marginals(sns.rugplot, color=\"r\", height=-.15, clip_on=False)\n",
    "    plt.show()"
   ]
  }
 ],
 "metadata": {
  "kernelspec": {
   "display_name": ".venv",
   "language": "python",
   "name": "python3"
  },
  "language_info": {
   "codemirror_mode": {
    "name": "ipython",
    "version": 3
   },
   "file_extension": ".py",
   "mimetype": "text/x-python",
   "name": "python",
   "nbconvert_exporter": "python",
   "pygments_lexer": "ipython3",
   "version": "3.10.13"
  }
 },
 "nbformat": 4,
 "nbformat_minor": 2
}
